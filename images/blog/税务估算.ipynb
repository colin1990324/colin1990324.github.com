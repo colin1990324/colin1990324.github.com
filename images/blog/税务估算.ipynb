{
 "cells": [
  {
   "cell_type": "code",
   "execution_count": 15,
   "metadata": {},
   "outputs": [],
   "source": [
    "# 年度综合所得税\n",
    "def annual_debt(income,four_savings = 5000 * 12,other_free_part = 2000 * 12):\n",
    "    free_part = 5000 * 12\n",
    "    debt_part = income - free_part - four_savings - other_free_part\n",
    "    if debt_part <= 36000:\n",
    "        debt = debt_part * 0.03\n",
    "    elif debt_part <= 144000:\n",
    "        debt = debt_part * 0.1 - 2520\n",
    "    elif debt_part <= 300000:\n",
    "        debt = debt_part * 0.2 - 16920\n",
    "    elif debt_part <= 420000:\n",
    "        debt = debt_part * 0.25 - 31920\n",
    "    elif debt_part <= 660000:\n",
    "        debt = debt_part * 0.3 - 52920\n",
    "    elif debt_part <= 960000:\n",
    "        debt = debt_part * 0.35 - 85920\n",
    "    else:\n",
    "        debt = debt_part * 0.45 - 181920\n",
    "    return debt"
   ]
  },
  {
   "cell_type": "code",
   "execution_count": 16,
   "metadata": {},
   "outputs": [],
   "source": [
    "# 年终奖所得税\n",
    "def bonus_debt(income):\n",
    "    monthly_bonus = income / 12\n",
    "    if monthly_bonus <= 3000:\n",
    "        debt = income * 0.03\n",
    "    elif monthly_bonus <= 12000:\n",
    "        debt = income * 0.1 - 210\n",
    "    elif monthly_bonus <= 25000:\n",
    "        debt = income * 0.2 - 1410\n",
    "    elif monthly_bonus <= 35000:\n",
    "        debt = income * 0.25 - 2660\n",
    "    elif monthly_bonus <= 55000:\n",
    "        debt = income * 0.3 - 4410\n",
    "    elif monthly_bonus <= 80000:\n",
    "        debt = income * 0.35 - 7160\n",
    "    else:\n",
    "        debt = income * 0.45 - 15160\n",
    "    return debt"
   ]
  },
  {
   "cell_type": "code",
   "execution_count": 17,
   "metadata": {},
   "outputs": [],
   "source": [
    "# 股权激励所得税\n",
    "def stock_debt(income):\n",
    "    debt_part = income\n",
    "    if debt_part <= 36000:\n",
    "        debt = debt_part * 0.03\n",
    "    elif debt_part <= 144000:\n",
    "        debt = debt_part * 0.1 - 2520\n",
    "    elif debt_part <= 300000:\n",
    "        debt = debt_part * 0.2 - 16920\n",
    "    elif debt_part <= 420000:\n",
    "        debt = debt_part * 0.25 - 31920\n",
    "    elif debt_part <= 660000:\n",
    "        debt = debt_part * 0.3 - 52920\n",
    "    elif debt_part <= 960000:\n",
    "        debt = debt_part * 0.35 - 85920\n",
    "    else:\n",
    "        debt = debt_part * 0.45 - 181920\n",
    "    return debt"
   ]
  },
  {
   "cell_type": "code",
   "execution_count": 27,
   "metadata": {},
   "outputs": [],
   "source": [
    "# 工资缴税\n",
    "four_savings = 5000\n",
    "other_free_part = 2000\n",
    "output = []\n",
    "for i in range(16000,100000,1000):\n",
    "    monthly_pay = i\n",
    "    annual_debts = annual_debt(i*12,four_savings*12,other_free_part*12)\n",
    "    annual_in_hand = i*12-four_savings*12-other_free_part*12-annual_debts\n",
    "    output.append([monthly_pay,monthly_pay*12,annual_debts,annual_in_hand])"
   ]
  },
  {
   "cell_type": "code",
   "execution_count": 20,
   "metadata": {},
   "outputs": [],
   "source": [
    "# 年终奖曲线\n",
    "output = []\n",
    "for j in range(0,1000000,1000):\n",
    "    bonus = j\n",
    "    bonus_debts = bonus_debt(j)\n",
    "    bonus_in_hand = j-bonus_debts\n",
    "    output.append([bonus,bonus_debts,bonus_in_hand])"
   ]
  },
  {
   "cell_type": "code",
   "execution_count": 22,
   "metadata": {},
   "outputs": [],
   "source": [
    "# 股权激励曲线\n",
    "output = []\n",
    "for k in range(0,1000000,1000):\n",
    "    stock = k\n",
    "    stock_debts = stock_debt(k)\n",
    "    stock_in_hand = k-stock_debts\n",
    "    output.append([stock,stock_debts,stock_in_hand])"
   ]
  },
  {
   "cell_type": "code",
   "execution_count": 37,
   "metadata": {},
   "outputs": [
    {
     "name": "stdout",
     "output_type": "stream",
     "text": [
      "46350.0\n"
     ]
    }
   ],
   "source": [
    "# 50W拆分计税\n",
    "all_debts = annual_debt(20000*12,4000*12,2000*12) + bonus_debt(160000) + stock_debt(100000)\n",
    "print all_debts"
   ]
  },
  {
   "cell_type": "code",
   "execution_count": 38,
   "metadata": {},
   "outputs": [
    {
     "name": "stdout",
     "output_type": "stream",
     "text": [
      "60080.0\n"
     ]
    }
   ],
   "source": [
    "# 50W累计计税\n",
    "all_debts = annual_debt(20000*12+160000+100000,4000*12,2000*12) \n",
    "print all_debts"
   ]
  },
  {
   "cell_type": "code",
   "execution_count": null,
   "metadata": {},
   "outputs": [],
   "source": []
  }
 ],
 "metadata": {
  "kernelspec": {
   "display_name": "Python 2",
   "language": "python",
   "name": "python2"
  },
  "language_info": {
   "codemirror_mode": {
    "name": "ipython",
    "version": 2
   },
   "file_extension": ".py",
   "mimetype": "text/x-python",
   "name": "python",
   "nbconvert_exporter": "python",
   "pygments_lexer": "ipython2",
   "version": "2.7.15"
  }
 },
 "nbformat": 4,
 "nbformat_minor": 2
}
